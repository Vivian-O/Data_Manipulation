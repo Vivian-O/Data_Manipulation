{
 "cells": [
  {
   "cell_type": "markdown",
   "id": "6fb68f68",
   "metadata": {},
   "source": [
    "#### Pawdacity - A pet store in the USA wants to get insight about their sales. The data available, when combined will help them understand the sales pattern \n",
    "#### In their retail stores across several cities. You start by cleaning and combining few of the available datasets"
   ]
  },
  {
   "cell_type": "markdown",
   "id": "17f8dbac",
   "metadata": {},
   "source": [
    "# Importing the datasets"
   ]
  },
  {
   "cell_type": "markdown",
   "id": "0e2d79da",
   "metadata": {},
   "source": [
    "### Load the necessary libraries"
   ]
  },
  {
   "cell_type": "code",
   "execution_count": 1,
   "id": "7c4021df",
   "metadata": {},
   "outputs": [],
   "source": [
    "import pandas as pd"
   ]
  },
  {
   "cell_type": "markdown",
   "id": "e6d1ccca",
   "metadata": {},
   "source": [
    "### Load the datasets"
   ]
  },
  {
   "cell_type": "code",
   "execution_count": 2,
   "id": "e01b3e88",
   "metadata": {},
   "outputs": [],
   "source": [
    "web = pd.read_csv(\"web.csv\")\n",
    "demographics = pd.read_csv(\"demographic.csv\")"
   ]
  },
  {
   "cell_type": "markdown",
   "id": "3bb6a5c0",
   "metadata": {},
   "source": [
    "# Cleaning web Dataset"
   ]
  },
  {
   "cell_type": "markdown",
   "id": "60d1a880",
   "metadata": {},
   "source": [
    "### Sample the web dataset"
   ]
  },
  {
   "cell_type": "code",
   "execution_count": 3,
   "id": "feaefa2c",
   "metadata": {},
   "outputs": [
    {
     "data": {
      "text/html": [
       "<div>\n",
       "<style scoped>\n",
       "    .dataframe tbody tr th:only-of-type {\n",
       "        vertical-align: middle;\n",
       "    }\n",
       "\n",
       "    .dataframe tbody tr th {\n",
       "        vertical-align: top;\n",
       "    }\n",
       "\n",
       "    .dataframe thead th {\n",
       "        text-align: right;\n",
       "    }\n",
       "</style>\n",
       "<table border=\"1\" class=\"dataframe\">\n",
       "  <thead>\n",
       "    <tr style=\"text-align: right;\">\n",
       "      <th></th>\n",
       "      <th>City|County</th>\n",
       "      <th>2014 Estimate</th>\n",
       "      <th>2010 Census</th>\n",
       "      <th>2000 Census</th>\n",
       "    </tr>\n",
       "  </thead>\n",
       "  <tbody>\n",
       "    <tr>\n",
       "      <th>0</th>\n",
       "      <td>Afton|Lincoln</td>\n",
       "      <td>&lt;td&gt;1,968&lt;/td&gt;</td>\n",
       "      <td>&lt;td&gt;1,911&lt;/td&gt;</td>\n",
       "      <td>&lt;td&gt;1,818&lt;/td&gt;</td>\n",
       "    </tr>\n",
       "    <tr>\n",
       "      <th>1</th>\n",
       "      <td>Albin|Laramie</td>\n",
       "      <td>&lt;td&gt;185&lt;/td&gt;</td>\n",
       "      <td>&lt;td&gt;181&lt;/td&gt;</td>\n",
       "      <td>&lt;td&gt;120&lt;/td&gt;</td>\n",
       "    </tr>\n",
       "    <tr>\n",
       "      <th>2</th>\n",
       "      <td>Alpine|Lincoln</td>\n",
       "      <td>&lt;td&gt;845&lt;/td&gt;</td>\n",
       "      <td>&lt;td&gt;828&lt;/td&gt;</td>\n",
       "      <td>&lt;td&gt;550&lt;/td&gt;</td>\n",
       "    </tr>\n",
       "    <tr>\n",
       "      <th>3</th>\n",
       "      <td>Baggs|Carbon</td>\n",
       "      <td>&lt;td&gt;439&lt;/td&gt;</td>\n",
       "      <td>&lt;td&gt;440&lt;/td&gt;</td>\n",
       "      <td>&lt;td&gt;348&lt;/td&gt;</td>\n",
       "    </tr>\n",
       "    <tr>\n",
       "      <th>4</th>\n",
       "      <td>Bairoil|Sweetwater</td>\n",
       "      <td>&lt;td&gt;107&lt;/td&gt;</td>\n",
       "      <td>&lt;td&gt;106&lt;/td&gt;</td>\n",
       "      <td>&lt;td&gt;97&lt;/td&gt;</td>\n",
       "    </tr>\n",
       "    <tr>\n",
       "      <th>5</th>\n",
       "      <td>Bar Nunn|Natrona</td>\n",
       "      <td>&lt;td&gt;2,735&lt;/td&gt;</td>\n",
       "      <td>&lt;td&gt;2,213&lt;/td&gt;</td>\n",
       "      <td>&lt;td&gt;936&lt;/td&gt;</td>\n",
       "    </tr>\n",
       "    <tr>\n",
       "      <th>6</th>\n",
       "      <td>Basin ?|Big Horn</td>\n",
       "      <td>&lt;td&gt;1,312&lt;/td&gt;</td>\n",
       "      <td>&lt;td&gt;1,285&lt;sup id=\"cite_ref-4\" class=\"reference...</td>\n",
       "      <td>&lt;td&gt;1,238&lt;/td&gt;</td>\n",
       "    </tr>\n",
       "    <tr>\n",
       "      <th>7</th>\n",
       "      <td>Bear River|Uinta</td>\n",
       "      <td>&lt;td&gt;521&lt;/td&gt;</td>\n",
       "      <td>&lt;td&gt;518&lt;/td&gt;</td>\n",
       "      <td>&lt;td&gt;-&lt;/td&gt;</td>\n",
       "    </tr>\n",
       "    <tr>\n",
       "      <th>8</th>\n",
       "      <td>Big Piney|Sublette</td>\n",
       "      <td>&lt;td&gt;538&lt;/td&gt;</td>\n",
       "      <td>&lt;td&gt;552&lt;/td&gt;</td>\n",
       "      <td>&lt;td&gt;408&lt;/td&gt;</td>\n",
       "    </tr>\n",
       "    <tr>\n",
       "      <th>9</th>\n",
       "      <td>Buffalo ?|Johnson</td>\n",
       "      <td>&lt;td&gt;4,615&lt;/td&gt;</td>\n",
       "      <td>&lt;td&gt;4,585&lt;/td&gt;</td>\n",
       "      <td>&lt;td&gt;3,900&lt;/td&gt;</td>\n",
       "    </tr>\n",
       "  </tbody>\n",
       "</table>\n",
       "</div>"
      ],
      "text/plain": [
       "          City|County   2014 Estimate  \\\n",
       "0       Afton|Lincoln  <td>1,968</td>   \n",
       "1       Albin|Laramie    <td>185</td>   \n",
       "2      Alpine|Lincoln    <td>845</td>   \n",
       "3        Baggs|Carbon    <td>439</td>   \n",
       "4  Bairoil|Sweetwater    <td>107</td>   \n",
       "5    Bar Nunn|Natrona  <td>2,735</td>   \n",
       "6    Basin ?|Big Horn  <td>1,312</td>   \n",
       "7    Bear River|Uinta    <td>521</td>   \n",
       "8  Big Piney|Sublette    <td>538</td>   \n",
       "9   Buffalo ?|Johnson  <td>4,615</td>   \n",
       "\n",
       "                                         2010 Census     2000 Census  \n",
       "0                                     <td>1,911</td>  <td>1,818</td>  \n",
       "1                                       <td>181</td>    <td>120</td>  \n",
       "2                                       <td>828</td>    <td>550</td>  \n",
       "3                                       <td>440</td>    <td>348</td>  \n",
       "4                                       <td>106</td>     <td>97</td>  \n",
       "5                                     <td>2,213</td>    <td>936</td>  \n",
       "6  <td>1,285<sup id=\"cite_ref-4\" class=\"reference...  <td>1,238</td>  \n",
       "7                                       <td>518</td>      <td>-</td>  \n",
       "8                                       <td>552</td>    <td>408</td>  \n",
       "9                                     <td>4,585</td>  <td>3,900</td>  "
      ]
     },
     "execution_count": 3,
     "metadata": {},
     "output_type": "execute_result"
    }
   ],
   "source": [
    "web.head(10)"
   ]
  },
  {
   "cell_type": "markdown",
   "id": "18f49a6f",
   "metadata": {},
   "source": [
    "### Get basic information about the dataset\n",
    "###### Write in detail atleast five things about the dataset"
   ]
  },
  {
   "cell_type": "code",
   "execution_count": 4,
   "id": "fd303037",
   "metadata": {},
   "outputs": [
    {
     "name": "stdout",
     "output_type": "stream",
     "text": [
      "<class 'pandas.core.frame.DataFrame'>\n",
      "RangeIndex: 103 entries, 0 to 102\n",
      "Data columns (total 4 columns):\n",
      " #   Column         Non-Null Count  Dtype \n",
      "---  ------         --------------  ----- \n",
      " 0   City|County    99 non-null     object\n",
      " 1   2014 Estimate  103 non-null    object\n",
      " 2   2010 Census    103 non-null    object\n",
      " 3   2000 Census    103 non-null    object\n",
      "dtypes: object(4)\n",
      "memory usage: 3.3+ KB\n"
     ]
    }
   ],
   "source": [
    "web.info()"
   ]
  },
  {
   "cell_type": "markdown",
   "id": "e3f95003",
   "metadata": {},
   "source": [
    "### Split the Count and City column in web dataset"
   ]
  },
  {
   "cell_type": "code",
   "execution_count": 5,
   "id": "79701caa",
   "metadata": {},
   "outputs": [],
   "source": [
    "web[[\"City\",\"County\"]] = web[\"City|County\"].str.split(\"|\", expand = True)"
   ]
  },
  {
   "cell_type": "markdown",
   "id": "cc936e57",
   "metadata": {},
   "source": [
    "### Drop the City|County column"
   ]
  },
  {
   "cell_type": "code",
   "execution_count": 6,
   "id": "b7a99367",
   "metadata": {},
   "outputs": [],
   "source": [
    "web.drop(columns = \"City|County\", inplace = True)"
   ]
  },
  {
   "attachments": {
    "Reorder.PNG": {
     "image/png": "[encoded data removed]"
    }
   },
   "cell_type": "markdown",
   "id": "5a8dd6b8",
   "metadata": {},
   "source": [
    "### Reorder the columns\n",
    "### You should have something like the image shown\n",
    "\n",
    "![Reorder.PNG](attachment:Reorder.PNG)"
   ]
  },
  {
   "cell_type": "code",
   "execution_count": 7,
   "id": "930c84b5",
   "metadata": {},
   "outputs": [],
   "source": [
    "web = web[[\"City\",\"County\",\"2014 Estimate\",\"2010 Census\",\"2000 Census\"]]"
   ]
  },
  {
   "cell_type": "markdown",
   "id": "96025fe5",
   "metadata": {},
   "source": [
    "### Remove invalid characters from dataset\n",
    "###### You may needd to use the LEFT and/or RIGHT function\n",
    "###### You may also need to view the entire dataset"
   ]
  },
  {
   "cell_type": "code",
   "execution_count": 8,
   "id": "a7ea5e05",
   "metadata": {},
   "outputs": [
    {
     "data": {
      "text/html": [
       "<div>\n",
       "<style scoped>\n",
       "    .dataframe tbody tr th:only-of-type {\n",
       "        vertical-align: middle;\n",
       "    }\n",
       "\n",
       "    .dataframe tbody tr th {\n",
       "        vertical-align: top;\n",
       "    }\n",
       "\n",
       "    .dataframe thead th {\n",
       "        text-align: right;\n",
       "    }\n",
       "</style>\n",
       "<table border=\"1\" class=\"dataframe\">\n",
       "  <thead>\n",
       "    <tr style=\"text-align: right;\">\n",
       "      <th></th>\n",
       "      <th>City</th>\n",
       "      <th>County</th>\n",
       "      <th>2014 Estimate</th>\n",
       "      <th>2010 Census</th>\n",
       "      <th>2000 Census</th>\n",
       "    </tr>\n",
       "  </thead>\n",
       "  <tbody>\n",
       "    <tr>\n",
       "      <th>0</th>\n",
       "      <td>Afton</td>\n",
       "      <td>Lincoln</td>\n",
       "      <td>1968</td>\n",
       "      <td>1911</td>\n",
       "      <td>1818</td>\n",
       "    </tr>\n",
       "    <tr>\n",
       "      <th>1</th>\n",
       "      <td>Albin</td>\n",
       "      <td>Laramie</td>\n",
       "      <td>185</td>\n",
       "      <td>181</td>\n",
       "      <td>120</td>\n",
       "    </tr>\n",
       "    <tr>\n",
       "      <th>2</th>\n",
       "      <td>Alpine</td>\n",
       "      <td>Lincoln</td>\n",
       "      <td>845</td>\n",
       "      <td>828</td>\n",
       "      <td>550</td>\n",
       "    </tr>\n",
       "    <tr>\n",
       "      <th>3</th>\n",
       "      <td>Baggs</td>\n",
       "      <td>Carbon</td>\n",
       "      <td>439</td>\n",
       "      <td>440</td>\n",
       "      <td>348</td>\n",
       "    </tr>\n",
       "    <tr>\n",
       "      <th>4</th>\n",
       "      <td>Bairoil</td>\n",
       "      <td>Sweetwater</td>\n",
       "      <td>107</td>\n",
       "      <td>106</td>\n",
       "      <td>97</td>\n",
       "    </tr>\n",
       "    <tr>\n",
       "      <th>5</th>\n",
       "      <td>Bar Nunn</td>\n",
       "      <td>Natrona</td>\n",
       "      <td>2735</td>\n",
       "      <td>2213</td>\n",
       "      <td>936</td>\n",
       "    </tr>\n",
       "    <tr>\n",
       "      <th>6</th>\n",
       "      <td>Basin</td>\n",
       "      <td>Big Horn</td>\n",
       "      <td>1312</td>\n",
       "      <td>1285</td>\n",
       "      <td>1238</td>\n",
       "    </tr>\n",
       "    <tr>\n",
       "      <th>7</th>\n",
       "      <td>Bear River</td>\n",
       "      <td>Uinta</td>\n",
       "      <td>521</td>\n",
       "      <td>518</td>\n",
       "      <td>-</td>\n",
       "    </tr>\n",
       "    <tr>\n",
       "      <th>8</th>\n",
       "      <td>Big Piney</td>\n",
       "      <td>Sublette</td>\n",
       "      <td>538</td>\n",
       "      <td>552</td>\n",
       "      <td>408</td>\n",
       "    </tr>\n",
       "    <tr>\n",
       "      <th>9</th>\n",
       "      <td>Buffalo</td>\n",
       "      <td>Johnson</td>\n",
       "      <td>4615</td>\n",
       "      <td>4585</td>\n",
       "      <td>3900</td>\n",
       "    </tr>\n",
       "  </tbody>\n",
       "</table>\n",
       "</div>"
      ],
      "text/plain": [
       "         City      County 2014 Estimate 2010 Census 2000 Census\n",
       "0       Afton     Lincoln          1968        1911        1818\n",
       "1       Albin     Laramie           185         181         120\n",
       "2      Alpine     Lincoln           845         828         550\n",
       "3       Baggs      Carbon           439         440         348\n",
       "4     Bairoil  Sweetwater           107         106          97\n",
       "5    Bar Nunn     Natrona          2735        2213         936\n",
       "6      Basin     Big Horn          1312        1285        1238\n",
       "7  Bear River       Uinta           521         518           -\n",
       "8   Big Piney    Sublette           538         552         408\n",
       "9    Buffalo      Johnson          4615        4585        3900"
      ]
     },
     "execution_count": 8,
     "metadata": {},
     "output_type": "execute_result"
    }
   ],
   "source": [
    "web[[\"City\",\"County\",\"2014 Estimate\",\"2010 Census\",\"2000 Census\"]] = web[[\"City\",\"County\",\"2014 Estimate\",\"2010 Census\",\"2000 Census\"]].replace(\"<td>|</td>|\\?|,\",\"\",regex = True)\n",
    "\n",
    "web[\"2010 Census\"] = web[\"2010 Census\"].str[:6]\n",
    "\n",
    "web[\"2010 Census\"] = web[\"2010 Census\"].str.replace(\"<s\",\"\")\n",
    "web.head(10)"
   ]
  },
  {
   "cell_type": "markdown",
   "id": "541a057a",
   "metadata": {},
   "source": [
    "### Replace spaces with underscores"
   ]
  },
  {
   "cell_type": "code",
   "execution_count": 9,
   "id": "09b2d866",
   "metadata": {
    "scrolled": true
   },
   "outputs": [],
   "source": [
    "web[[\"City\",\"County\"]] = web[[\"City\",\"County\"]].replace(\" \",\"_\",regex = True)"
   ]
  },
  {
   "cell_type": "markdown",
   "id": "3e653420",
   "metadata": {},
   "source": [
    "### Remove leading and trailing underscores in the City and County columns\n",
    "###### You may need to do each column separately"
   ]
  },
  {
   "cell_type": "code",
   "execution_count": 10,
   "id": "c0fee26d",
   "metadata": {},
   "outputs": [],
   "source": [
    "web[\"City\"] = web[\"City\"].str.strip(\"_\")\n",
    "web[\"County\"] = web[\"County\"].str.strip(\"_\")"
   ]
  },
  {
   "attachments": {
    "Drop_index.PNG": {
     "image/png": "[encoded data removed]"
    }
   },
   "cell_type": "markdown",
   "id": "9bca00ef",
   "metadata": {},
   "source": [
    "### Drop the rows that have unuseful data\n",
    "### You should have something like the image shown \n",
    "\n",
    "![Drop_index.PNG](attachment:Drop_index.PNG)"
   ]
  },
  {
   "cell_type": "code",
   "execution_count": 11,
   "id": "8c8dbe5e",
   "metadata": {},
   "outputs": [],
   "source": [
    "web = web.drop(index = [99,100,101,102])"
   ]
  },
  {
   "cell_type": "markdown",
   "id": "eb3f9bbd",
   "metadata": {},
   "source": [
    "# Cleaning demographics dataset"
   ]
  },
  {
   "cell_type": "markdown",
   "id": "12dda759",
   "metadata": {},
   "source": [
    "### Do all necessary cleaning needed on the dataset and make it as clean as the WEB dataset"
   ]
  },
  {
   "cell_type": "code",
   "execution_count": 12,
   "id": "aa16685e",
   "metadata": {},
   "outputs": [],
   "source": [
    "demographics[\"City\"] = demographics[\"City\"].str.replace(\" \",\"_\")\n",
    "demographics[\"County\"] = demographics[\"County\"].str.replace(\" \",\"_\")\n",
    "demographics[\"County\"] = demographics[\"County\"].str.strip(\"_\")\n",
    "demographics[\"City\"] = demographics[\"City\"].str.strip(\"_\")"
   ]
  },
  {
   "cell_type": "markdown",
   "id": "9f0c13d1",
   "metadata": {},
   "source": [
    "# Combining the datasets"
   ]
  },
  {
   "attachments": {
    "Combined.PNG": {
     "image/png": "[encoded data removed]"
    }
   },
   "cell_type": "markdown",
   "id": "76f40640",
   "metadata": {},
   "source": [
    "### combine both dataset together. The combining criteria should be on City and County\n",
    "### You should have something like the image shown \n",
    "\n",
    "![Combined.PNG](attachment:Combined.PNG)"
   ]
  },
  {
   "cell_type": "code",
   "execution_count": 13,
   "id": "3bf390b0",
   "metadata": {},
   "outputs": [],
   "source": [
    "Demographics = pd.merge(web,demographics, on = [\"City\", \"County\"])"
   ]
  },
  {
   "cell_type": "markdown",
   "id": "51a1fe88",
   "metadata": {},
   "source": [
    "### Write (save) the dataset to a coma separated file named \"Demographics\""
   ]
  },
  {
   "cell_type": "code",
   "execution_count": 14,
   "id": "f497eebe",
   "metadata": {},
   "outputs": [],
   "source": [
    "Demographics = pd.merge(web,demographics, on = [\"City\", \"County\"])"
   ]
  },
  {
   "cell_type": "code",
   "execution_count": null,
   "id": "c1e3b0d4",
   "metadata": {},
   "outputs": [],
   "source": []
  }
 ],
 "metadata": {
  "kernelspec": {
   "display_name": "Python 3",
   "language": "python",
   "name": "python3"
  },
  "language_info": {
   "codemirror_mode": {
    "name": "ipython",
    "version": 3
   },
   "file_extension": ".py",
   "mimetype": "text/x-python",
   "name": "python",
   "nbconvert_exporter": "python",
   "pygments_lexer": "ipython3",
   "version": "3.8.8"
  }
 },
 "nbformat": 4,
 "nbformat_minor": 5
}
